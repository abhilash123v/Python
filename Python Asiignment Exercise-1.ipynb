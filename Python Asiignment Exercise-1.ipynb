{
 "cells": [
  {
   "cell_type": "markdown",
   "id": "acf50f11",
   "metadata": {},
   "source": [
    "## Assignment-Python Exercises.pdf"
   ]
  },
  {
   "cell_type": "code",
   "execution_count": null,
   "id": "b98df20b",
   "metadata": {},
   "outputs": [],
   "source": [
    "num = int(input(\"Enter your number - \"))\n",
    "if (num % 2) == 0:\n",
    "    print(\"The number is even\")\n",
    "else :\n",
    "    print(\"The number is Odd\")"
   ]
  },
  {
   "cell_type": "raw",
   "id": "d957fd2c",
   "metadata": {},
   "source": [
    "# Question 2"
   ]
  },
  {
   "cell_type": "code",
   "execution_count": null,
   "id": "94dcbef6",
   "metadata": {},
   "outputs": [],
   "source": [
    "def calculator():\n",
    "\n",
    "    # Get dog age\n",
    "    age = input(\"Input dog years: \")\n",
    "\n",
    "    try:\n",
    "        # Cast to float\n",
    "        d_age = float(age)\n",
    "        # If user enters negative number, print message\n",
    "        if(d_age < 0):\n",
    "            print(\"Age can not be a negative number\", age)\n",
    "        # Otherwise, calculate dog's age in human years\n",
    "        elif(d_age == 1):\n",
    "            d_age = 15\n",
    "        elif(d_age == 2):\n",
    "            d_age = 2 * 12\n",
    "        elif(d_age == 3):\n",
    "            d_age = 3 * 9.3\n",
    "        elif(d_age == 4):\n",
    "            d_age = 4 * 8\n",
    "        elif(d_age == 5):\n",
    "            d_age = 5 * 7.2\n",
    "        else:\n",
    "            d_age = 5 * 7.2 + (float(age) - 5) * 7\n",
    "        print(\"\\n \\t \\'The given dog age\", age, \"is\", d_age, \"human years.'\")\n",
    "    except ValueError:\n",
    "            print(age, \"is an invalid age\")\n",
    "\n",
    "calculator()"
   ]
  },
  {
   "cell_type": "code",
   "execution_count": null,
   "id": "9a99e40d",
   "metadata": {},
   "outputs": [],
   "source": [
    "def name_that_shape(side):\n",
    "    \n",
    "    if side == 3:\n",
    "        side = \"Triangle\"\n",
    "    \n",
    "    elif side == 4:\n",
    "        side = \"Square\"\n",
    "    \n",
    "    elif side == 5:\n",
    "        side = \"Pentagon\"\n",
    "    \n",
    "    elif side == 6:\n",
    "        side = \"Hexagon\"\n",
    "    \n",
    "    elif side == 7:\n",
    "        side = \"Heptagon\"\n",
    "\n",
    "    elif side == 8:\n",
    "        side = \"Octagon\"\n",
    "    \n",
    "    elif side == 9:\n",
    "        side = \"Nonagon\"\n",
    "\n",
    "    elif side == 10:\n",
    "        side = \"Decagon\"\n",
    "    \n",
    "    return side\n",
    "\n",
    "print(\"Enter sides of shape to determine its name.\")\n",
    "side = input(\"Enter number of sides: \")\n",
    "\n",
    "try:\n",
    "    side = float(side)\n",
    "\n",
    "except:\n",
    "    side = -1\n",
    "\n",
    "if side <= 0:\n",
    "    print()\n",
    "    print(\"You entered wrong input.\")\n",
    "    print(\"Please enter numbers only.\")\n",
    "\n",
    "elif side == 1 or side == 2 or side > 10:\n",
    "    if side == 1:\n",
    "        print(\"There is no shape with only one side.\")\n",
    "        print(\"I think you ask for a circle.\")\n",
    "    \n",
    "    elif side == 2:\n",
    "        print(\"There is no shape with two sides.\")\n",
    "    \n",
    "    elif side > 10:\n",
    "        side = int(side)\n",
    "        print(\"There is no shape with %d sides.\"%side)\n",
    "\n",
    "else:\n",
    "    \n",
    "    print()\n",
    "    print(str(name_that_shape(side)) + \" is the shape which have \" + str(int(side)) + \" sides.\")"
   ]
  },
  {
   "cell_type": "code",
   "execution_count": null,
   "id": "bbbc89d7",
   "metadata": {},
   "outputs": [],
   "source": [
    "# Display a list of months to the user\n",
    "print(\"List of months: January, February, March, April, May, June, July, August, September, October, November, December\")\n",
    "\n",
    "# Request input from the user to enter the name of a month and assign it to the variable 'month_name'\n",
    "month_name = input(\"Input the name of Month: \")\n",
    "\n",
    "# Check the input 'month_name' and provide the number of days based on the entered month\n",
    "if month_name == \"February\":\n",
    "    print(\"No. of days: 28/29 days\")  # Display the number of days in February (28 or 29 days for leap years)\n",
    "elif month_name in (\"April\", \"June\", \"September\", \"November\"):\n",
    "    print(\"No. of days: 30 days\")  # Display the number of days for months having 30 days\n",
    "elif month_name in (\"January\", \"March\", \"May\", \"July\", \"August\", \"October\", \"December\"):\n",
    "    print(\"No. of days: 31 days\")  # Display the number of days for months having 31 days\n",
    "else:\n",
    "    print(\"Wrong month name\")"
   ]
  }
 ],
 "metadata": {
  "kernelspec": {
   "display_name": "Python 3 (ipykernel)",
   "language": "python",
   "name": "python3"
  },
  "language_info": {
   "codemirror_mode": {
    "name": "ipython",
    "version": 3
   },
   "file_extension": ".py",
   "mimetype": "text/x-python",
   "name": "python",
   "nbconvert_exporter": "python",
   "pygments_lexer": "ipython3",
   "version": "3.11.5"
  }
 },
 "nbformat": 4,
 "nbformat_minor": 5
}
