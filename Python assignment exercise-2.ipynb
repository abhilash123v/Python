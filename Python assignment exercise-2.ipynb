{
 "cells": [
  {
   "cell_type": "code",
   "execution_count": 1,
   "id": "f6a261f8",
   "metadata": {},
   "outputs": [
    {
     "name": "stdout",
     "output_type": "stream",
     "text": [
      "Enter the number of decibels: 55\n",
      "quieter than an alarm clock.\n"
     ]
    }
   ],
   "source": [
    "decibels = float(input(\"Enter the number of decibels: \"))\n",
    "\t\n",
    "if decibels > 0 and decibels < 40:\n",
    "    print('quieter than a quiet room.')\n",
    "\t\t\n",
    "elif decibels == 40:\n",
    "    print('about the same as a quiet room.')\n",
    "\t\n",
    "elif decibels > 40 and decibels < 70:\n",
    "    print('quieter than an alarm clock.')\n",
    "elif decibels == 70:\n",
    "    print('about the same as an alarm clock.')\n",
    "\t\t\n",
    "elif decibels > 70 and decibels < 106:\n",
    "    print('quieter than a lawn mower.')\n",
    "\t\n",
    "elif decibels == 106:\n",
    "    ('about the same as a lawn mower.')\n",
    "\t\n",
    "elif decibels > 106 and decibels < 130:\n",
    "    print(\" quieter than a jackhammer.\")\n",
    "\t\t\n",
    "elif decibels == 130:\n",
    "    print('about the same as a jackhammer.')\n",
    "\t\t\n",
    "elif decibels > 130:\n",
    "    print('way too loud.')\n",
    "\t\t\n",
    "else:\n",
    "    print('Please enter a correct data value.')\n",
    "\t\t\n",
    "    print('Your sound level is')"
   ]
  },
  {
   "cell_type": "code",
   "execution_count": null,
   "id": "9c429cd9",
   "metadata": {},
   "outputs": [],
   "source": [
    "while True:\n",
    "    wavelength = float(input('Please enter the wavelength...'))\n",
    "    if 380<= wavelength <= 450:\n",
    "        Wtype = 'violet'\n",
    "    elif 450<= wavelength <= 495:\n",
    "        Wtype = 'blue'\n",
    "    elif 495<= wavelength <= 570:\n",
    "        Wtype = 'green'\n",
    "    elif 570<= wavelength <= 590:\n",
    "        Wtype = 'yellow'\n",
    "    elif 590<= wavelength <= 620:\n",
    "        Wtype = 'orange'\n",
    "    elif  wavelength >= 620:\n",
    "        Wtype = 'red'\n",
    "        print('Your wavelength is {0}'.format(Wtype))"
   ]
  },
  {
   "cell_type": "code",
   "execution_count": null,
   "id": "2882d6a5",
   "metadata": {},
   "outputs": [],
   "source": [
    "def vowelOrConsonant(x): \n",
    "    \n",
    "    # Get alphabets\n",
    "    letter = input(\"Input letters: \")\n",
    "    \n",
    "try:\n",
    "    if (x == 'a' or x == 'e' or\n",
    "        x == 'i' or x == 'o' or x == 'u'): \n",
    "        print(\"Vowel\") \n",
    "    else: \n",
    "        print(\"Consonant\") "
   ]
  },
  {
   "cell_type": "markdown",
   "id": "1f654f04",
   "metadata": {},
   "source": [
    "# List"
   ]
  },
  {
   "cell_type": "code",
   "execution_count": null,
   "id": "bc54c419",
   "metadata": {},
   "outputs": [],
   "source": [
    "def function(x):\n",
    "    #Get numbers list\n",
    "    numbers=input(\"Input numbers\")\n",
    "numbers.sort()\n",
    "smallest = a[0]\n",
    "largest = a[;0]\n",
    "print(smallest)\n",
    "print(largest)"
   ]
  }
 ],
 "metadata": {
  "kernelspec": {
   "display_name": "Python 3 (ipykernel)",
   "language": "python",
   "name": "python3"
  },
  "language_info": {
   "codemirror_mode": {
    "name": "ipython",
    "version": 3
   },
   "file_extension": ".py",
   "mimetype": "text/x-python",
   "name": "python",
   "nbconvert_exporter": "python",
   "pygments_lexer": "ipython3",
   "version": "3.11.5"
  }
 },
 "nbformat": 4,
 "nbformat_minor": 5
}
